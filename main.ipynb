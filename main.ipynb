{
 "cells": [
  {
   "cell_type": "code",
   "execution_count": 1,
   "metadata": {},
   "outputs": [],
   "source": [
    "import torch\n",
    "import torch.nn as nn\n",
    "import torch.optim as optim\n",
    "from torchvision import datasets, transforms, models\n",
    "from torch.utils.data import DataLoader\n",
    "import torchmetrics\n",
    "import matplotlib.pyplot as plt\n",
    "from tqdm import tqdm\n",
    "from torch.utils.data import random_split"
   ]
  },
  {
   "cell_type": "code",
   "execution_count": 2,
   "metadata": {},
   "outputs": [
    {
     "name": "stdout",
     "output_type": "stream",
     "text": [
      "NVIDIA GeForce RTX 4070 SUPER\n",
      "_CudaDeviceProperties(name='NVIDIA GeForce RTX 4070 SUPER', major=8, minor=9, total_memory=12281MB, multi_processor_count=56, uuid=25c21ef8-cd11-c18b-4083-56f7752b9683, L2_cache_size=48MB)\n"
     ]
    }
   ],
   "source": [
    "# 設置運行設備 (CUDA 或 CPU)\n",
    "device = torch.device(\"cuda\" if torch.cuda.is_available() else \"cpu\")\n",
    "\n",
    "if device.type == 'cuda':\n",
    "    print(torch.cuda.get_device_name(device))\n",
    "    print(torch.cuda.get_device_properties(device))\n",
    "\n",
    "    # 清除 CUDA 快取\n",
    "    torch.cuda.empty_cache()\n",
    "else:\n",
    "    print(\"CUDA is not available. Using CPU.\")"
   ]
  },
  {
   "cell_type": "code",
   "execution_count": 3,
   "metadata": {},
   "outputs": [
    {
     "name": "stdout",
     "output_type": "stream",
     "text": [
      "資料集大小: 60000\n",
      "資料集中有 100 個類別\n"
     ]
    }
   ],
   "source": [
    "# 圖像預處理（包括調整大小、隨機翻轉、顏色抖動和正規化）\n",
    "transform = transforms.Compose([\n",
    "    transforms.Resize((224, 224)),\n",
    "    transforms.RandomHorizontalFlip(),  # 隨機地將圖像水平翻轉，翻轉概率為 50%\n",
    "    transforms.ColorJitter(brightness=0.2, contrast=0.2, saturation=0.2, hue=0.2),  # 隨機改變圖像的亮度、對比度、飽和度和色調\n",
    "    transforms.ToTensor(),\n",
    "    transforms.Normalize(mean=[0.485, 0.456, 0.406], std=[0.229, 0.224, 0.225])\n",
    "])\n",
    "\n",
    "train_dataset = datasets.ImageFolder(root='./miniimagenet', transform=transform)\n",
    "\n",
    "# 檢視資料集中的類別數量\n",
    "num_classes = len(train_dataset.classes)\n",
    "\n",
    "print(f'資料集大小: {len(train_dataset)}')\n",
    "print(f'資料集中有 {num_classes} 個類別')"
   ]
  },
  {
   "cell_type": "markdown",
   "metadata": {},
   "source": [
    "### 將資料集劃分為訓練集和測試集（80% 用於訓練，20% 用於測試）"
   ]
  },
  {
   "cell_type": "code",
   "execution_count": 4,
   "metadata": {},
   "outputs": [],
   "source": [
    "train_size = int(0.8 * len(train_dataset))\n",
    "test_size = int(0.2 * len(train_dataset))\n",
    "train_dataset, test_dataset = random_split(train_dataset, [train_size, test_size])\n",
    "\n",
    "train_loader = DataLoader(train_dataset, batch_size=32, shuffle=True, num_workers=8)\n",
    "test_loader = DataLoader(test_dataset, batch_size=32, shuffle=False, num_workers=8)"
   ]
  },
  {
   "cell_type": "markdown",
   "metadata": {},
   "source": [
    "### 使用 10 way 10 shot 的方式模擬只有少量樣本的情況"
   ]
  },
  {
   "cell_type": "code",
   "execution_count": 5,
   "metadata": {},
   "outputs": [],
   "source": [
    "import random\n",
    "from torch.utils.data import Subset\n",
    "\n",
    "# 隨機從資料集中取樣，返回支援集和查詢集\n",
    "def sample_n_way_k_shot(dataset, n_way, k_shot, n_query):\n",
    "    class_to_indices = {class_idx: [] for class_idx in range(num_classes)}\n",
    "    \n",
    "    for idx, (image, label) in enumerate(dataset):\n",
    "        class_to_indices[label].append(idx)\n",
    "    \n",
    "    # 隨機選擇 N 個類別，並從每個類別中選出 K 張作為支援樣本，選出 n_query 張作為查詢樣本\n",
    "    selected_classes = random.sample(list(class_to_indices.keys()), n_way)\n",
    "    \n",
    "    support_indices = []\n",
    "    query_indices = []\n",
    "    \n",
    "    for class_idx in selected_classes:\n",
    "        indices = random.sample(class_to_indices[class_idx], k_shot + n_query)\n",
    "        support_indices.extend(indices[:k_shot])  # 支援樣本\n",
    "        query_indices.extend(indices[k_shot:])  # 查詢樣本\n",
    "    \n",
    "    support_set = Subset(dataset, support_indices)\n",
    "    query_set = Subset(dataset, query_indices)\n",
    "    \n",
    "    return support_set, query_set"
   ]
  },
  {
   "cell_type": "markdown",
   "metadata": {},
   "source": [
    "### 使用 ResNet50 作為預訓練模型，並只微調最後一層"
   ]
  },
  {
   "cell_type": "code",
   "execution_count": 6,
   "metadata": {},
   "outputs": [],
   "source": [
    "class CustomResNet50(nn.Module):\n",
    "    def __init__(self, freeze_pretrained=True):\n",
    "        super(CustomResNet50, self).__init__()\n",
    "        self.num_classes = 100\n",
    "        self.model = models.resnet50(pretrained=True)\n",
    "        \n",
    "        if freeze_pretrained:\n",
    "            for param in self.model.parameters():\n",
    "                param.requires_grad = False\n",
    "        # 修改最後的全連接層以適應新類別\n",
    "        num_ftrs = self.model.fc.in_features\n",
    "        self.model.fc = nn.Linear(num_ftrs, num_classes)\n",
    "    \n",
    "    def forward(self, x):\n",
    "        return self.model(x)"
   ]
  },
  {
   "cell_type": "code",
   "execution_count": 7,
   "metadata": {},
   "outputs": [],
   "source": [
    "# 可視化結果\n",
    "def plot_loss_acc(train_loss, train_acc, val_loss, val_acc):\n",
    "    epochs = range(1, len(train_loss) + 1)\n",
    "\n",
    "    plt.figure(figsize=(12, 5))\n",
    "    plt.subplot(1, 2, 1)\n",
    "    plt.plot(epochs, train_loss, label='Train Loss')\n",
    "    plt.plot(epochs, val_loss, label='Validation Loss')\n",
    "    plt.title('Loss')\n",
    "    plt.legend()\n",
    "\n",
    "    plt.subplot(1, 2, 2)\n",
    "    plt.plot(epochs, train_acc, label='Train Acc')\n",
    "    plt.plot(epochs, val_acc, label='Validation Acc')\n",
    "    plt.title('Accuracy')\n",
    "    plt.legend()\n",
    "\n",
    "    plt.show()"
   ]
  },
  {
   "cell_type": "code",
   "execution_count": 8,
   "metadata": {},
   "outputs": [],
   "source": [
    "# 訓練 N-way K-shot 模型的函數\n",
    "def train_n_way_k_shot(model, n_way, k_shot, n_query, criterion, optimizer, scheduler, epochs):\n",
    "    # 訓練和驗證準確率的度量器，針對多類別任務進行配置\n",
    "    train_accuracy = torchmetrics.Accuracy(task=\"multiclass\", num_classes=num_classes).to(device)\n",
    "    val_accuracy = torchmetrics.Accuracy(task=\"multiclass\", num_classes=num_classes).to(device)\n",
    "    \n",
    "    # 儲存每個 epoch 的訓練和驗證損失與準確率\n",
    "    train_loss_history = []\n",
    "    val_loss_history = []\n",
    "    train_acc_history = []\n",
    "    val_acc_history = []\n",
    "\n",
    "    for epoch in range(epochs):\n",
    "        model.train()\n",
    "\n",
    "        # 每個 epoch 從訓練集中隨機抽取支援集和查詢集\n",
    "        support_set, query_set = sample_n_way_k_shot(train_dataset, n_way, k_shot, n_query)\n",
    "\n",
    "        # 建立對應的 DataLoader\n",
    "        support_loader = DataLoader(support_set, batch_size=k_shot * n_way, shuffle=True, num_workers=8)\n",
    "        query_loader = DataLoader(query_set, batch_size=n_query * n_way, shuffle=True, num_workers=8)\n",
    "\n",
    "        running_loss = 0.0\n",
    "        train_accuracy.reset()\n",
    "        val_accuracy.reset()\n",
    "        \n",
    "        # 訓練支援集\n",
    "        for inputs, labels in support_loader:\n",
    "            inputs, labels = inputs.to(device), labels.to(device)\n",
    "            \n",
    "            optimizer.zero_grad()  # 清空梯度\n",
    "            \n",
    "            outputs = model(inputs)\n",
    "            loss = criterion(outputs, labels)\n",
    "            loss.backward()  # 反向傳播\n",
    "            optimizer.step()  # 更新權重\n",
    "            \n",
    "            running_loss += loss.item()\n",
    "            _, predicted = torch.max(outputs, 1)\n",
    "            train_accuracy.update(predicted, labels)\n",
    "\n",
    "        train_loss = running_loss / len(support_loader)\n",
    "        train_acc = train_accuracy.compute().cpu().item()\n",
    "        train_loss_history.append(train_loss)\n",
    "        train_acc_history.append(train_acc)\n",
    "\n",
    "        model.eval()\n",
    "        val_loss = 0.0\n",
    "\n",
    "        # 測試查詢集\n",
    "        with torch.no_grad():\n",
    "            for inputs, labels in query_loader:\n",
    "                inputs, labels = inputs.to(device), labels.to(device)\n",
    "\n",
    "                outputs = model(inputs)\n",
    "                loss = criterion(outputs, labels)\n",
    "                val_loss += loss.item()\n",
    "                _, predicted = torch.max(outputs, 1)\n",
    "                val_accuracy.update(predicted, labels)\n",
    "\n",
    "        val_acc = val_accuracy.compute().cpu().item()\n",
    "        val_loss /= len(query_loader)\n",
    "        val_loss_history.append(val_loss)\n",
    "        val_acc_history.append(val_acc)\n",
    "\n",
    "        # 根據驗證損失來調整學習率\n",
    "        scheduler.step(val_loss)\n",
    "        \n",
    "        print(f'Epoch [{epoch+1}/{epochs}], Train Loss: {train_loss:.4f}, Train Acc: {train_acc:.4f}, Val Loss: {val_loss:.4f}, Val Acc: {val_acc:.4f}')\n",
    "\n",
    "    return train_loss_history, train_acc_history, val_loss_history, val_acc_history\n",
    "\n",
    "# 測試模型的準確率\n",
    "def test_model(model, test_loader):\n",
    "    model.eval()\n",
    "    accuracy = torchmetrics.Accuracy(task=\"multiclass\", num_classes=num_classes).to(device)\n",
    "    accuracy.reset()\n",
    "    with torch.no_grad():\n",
    "        for inputs, labels in test_loader:\n",
    "            inputs, labels = inputs.to(device), labels.to(device)\n",
    "            outputs = model(inputs)\n",
    "            _, predicted = torch.max(outputs, 1)\n",
    "            accuracy.update(predicted, labels)\n",
    "\n",
    "    test_acc = accuracy.compute().cpu().item()\n",
    "\n",
    "    print(f'Test Accuracy: {100 * test_acc:.4f}%')\n",
    "    return test_acc"
   ]
  },
  {
   "cell_type": "code",
   "execution_count": 9,
   "metadata": {},
   "outputs": [],
   "source": [
    "LEARNING_RATE=0.001\n",
    "EPOCHS=25\n",
    "N_WAY=10\n",
    "K_SHOT=10\n",
    "N_QUERY=20"
   ]
  },
  {
   "cell_type": "code",
   "execution_count": 10,
   "metadata": {},
   "outputs": [
    {
     "name": "stderr",
     "output_type": "stream",
     "text": [
      "c:\\Users\\wei\\Desktop\\programs\\special topics\\mini_image_net\\Lib\\site-packages\\torchvision\\models\\_utils.py:208: UserWarning: The parameter 'pretrained' is deprecated since 0.13 and may be removed in the future, please use 'weights' instead.\n",
      "  warnings.warn(\n",
      "c:\\Users\\wei\\Desktop\\programs\\special topics\\mini_image_net\\Lib\\site-packages\\torchvision\\models\\_utils.py:223: UserWarning: Arguments other than a weight enum or `None` for 'weights' are deprecated since 0.13 and may be removed in the future. The current behavior is equivalent to passing `weights=ResNet50_Weights.IMAGENET1K_V1`. You can also use `weights=ResNet50_Weights.DEFAULT` to get the most up-to-date weights.\n",
      "  warnings.warn(msg)\n"
     ]
    },
    {
     "name": "stdout",
     "output_type": "stream",
     "text": [
      "Epoch [1/25], Train Loss: 4.5732, Train Acc: 0.0500, Val Loss: 3.2645, Val Acc: 0.1450\n",
      "Epoch [2/25], Train Loss: 5.0522, Train Acc: 0.0000, Val Loss: 4.2727, Val Acc: 0.0000\n",
      "Epoch [3/25], Train Loss: 5.6855, Train Acc: 0.0000, Val Loss: 5.0586, Val Acc: 0.0000\n",
      "Epoch [4/25], Train Loss: 5.0846, Train Acc: 0.0200, Val Loss: 4.5893, Val Acc: 0.0600\n",
      "Epoch [5/25], Train Loss: 4.9207, Train Acc: 0.1200, Val Loss: 4.5177, Val Acc: 0.2300\n",
      "Epoch [6/25], Train Loss: 6.7956, Train Acc: 0.0100, Val Loss: 6.4759, Val Acc: 0.0300\n",
      "Epoch [7/25], Train Loss: 5.0704, Train Acc: 0.0200, Val Loss: 4.8532, Val Acc: 0.0050\n",
      "Epoch [8/25], Train Loss: 6.5122, Train Acc: 0.0000, Val Loss: 6.4221, Val Acc: 0.0000\n",
      "Epoch [9/25], Train Loss: 5.8992, Train Acc: 0.0000, Val Loss: 5.5291, Val Acc: 0.0000\n",
      "Epoch [10/25], Train Loss: 6.8876, Train Acc: 0.0000, Val Loss: 6.8870, Val Acc: 0.0200\n",
      "Epoch [11/25], Train Loss: 4.2068, Train Acc: 0.0900, Val Loss: 4.0131, Val Acc: 0.0850\n",
      "Epoch [12/25], Train Loss: 6.2584, Train Acc: 0.0500, Val Loss: 6.1443, Val Acc: 0.0750\n",
      "Epoch [13/25], Train Loss: 6.0482, Train Acc: 0.0000, Val Loss: 5.9114, Val Acc: 0.0000\n",
      "Epoch [14/25], Train Loss: 6.1241, Train Acc: 0.0000, Val Loss: 6.1598, Val Acc: 0.0000\n",
      "Epoch [15/25], Train Loss: 7.3020, Train Acc: 0.0000, Val Loss: 7.1551, Val Acc: 0.0150\n",
      "Epoch [16/25], Train Loss: 5.7059, Train Acc: 0.0700, Val Loss: 5.6672, Val Acc: 0.0650\n",
      "Epoch [17/25], Train Loss: 6.7074, Train Acc: 0.0000, Val Loss: 6.6910, Val Acc: 0.0000\n",
      "Epoch [18/25], Train Loss: 5.8677, Train Acc: 0.1000, Val Loss: 5.6944, Val Acc: 0.1300\n",
      "Epoch [19/25], Train Loss: 5.7533, Train Acc: 0.1400, Val Loss: 5.7186, Val Acc: 0.1950\n",
      "Epoch [20/25], Train Loss: 4.9394, Train Acc: 0.1000, Val Loss: 4.8415, Val Acc: 0.1800\n",
      "Epoch [21/25], Train Loss: 6.0129, Train Acc: 0.0200, Val Loss: 5.9533, Val Acc: 0.0450\n",
      "Epoch [22/25], Train Loss: 5.4856, Train Acc: 0.0500, Val Loss: 5.3122, Val Acc: 0.0600\n",
      "Epoch [23/25], Train Loss: 5.4559, Train Acc: 0.0700, Val Loss: 5.3640, Val Acc: 0.0600\n",
      "Epoch [24/25], Train Loss: 4.6946, Train Acc: 0.0600, Val Loss: 4.6921, Val Acc: 0.0850\n",
      "Epoch [25/25], Train Loss: 6.1141, Train Acc: 0.1200, Val Loss: 5.9416, Val Acc: 0.1200\n"
     ]
    }
   ],
   "source": [
    "few_shot_model = CustomResNet50()\n",
    "few_shot_model = few_shot_model.to(device)\n",
    "\n",
    "# 損失函數和優化器設置\n",
    "criterion = nn.CrossEntropyLoss()\n",
    "optimizer = optim.Adam(few_shot_model.model.fc.parameters(), lr=LEARNING_RATE)\n",
    "scheduler = torch.optim.lr_scheduler.ReduceLROnPlateau(optimizer, mode='min', factor=0.5, patience=3)\n",
    "\n",
    "# 開始訓練\n",
    "train_loss, train_acc, val_loss, val_acc = train_n_way_k_shot(few_shot_model, N_WAY, K_SHOT, N_QUERY, criterion, optimizer, scheduler, epochs=EPOCHS)"
   ]
  },
  {
   "cell_type": "code",
   "execution_count": 11,
   "metadata": {},
   "outputs": [
    {
     "data": {
      "image/png": "[encoded data removed]",
      "text/plain": [
       "<Figure size 1200x500 with 2 Axes>"
      ]
     },
     "metadata": {},
     "output_type": "display_data"
    }
   ],
   "source": [
    "plot_loss_acc(train_loss, train_acc, val_loss, val_acc)"
   ]
  },
  {
   "cell_type": "code",
   "execution_count": 12,
   "metadata": {},
   "outputs": [
    {
     "name": "stdout",
     "output_type": "stream",
     "text": [
      "Test Accuracy: 7.6500%\n"
     ]
    },
    {
     "data": {
      "text/plain": [
       "0.07649999856948853"
      ]
     },
     "execution_count": 12,
     "metadata": {},
     "output_type": "execute_result"
    }
   ],
   "source": [
    "test_model(few_shot_model, test_loader)"
   ]
  },
  {
   "cell_type": "markdown",
   "metadata": {},
   "source": [
    "### 直接使用 80% 資料集做 transfer learning"
   ]
  },
  {
   "cell_type": "code",
   "execution_count": 13,
   "metadata": {},
   "outputs": [],
   "source": [
    "def train_all_data(model, train_loader, val_loader, criterion, optimizer, scheduler, epochs):\n",
    "    train_accuracy = torchmetrics.Accuracy(task=\"multiclass\", num_classes=num_classes).to(device)\n",
    "    val_accuracy = torchmetrics.Accuracy(task=\"multiclass\", num_classes=num_classes).to(device)\n",
    "    \n",
    "    train_loss_history = []\n",
    "    val_loss_history = []\n",
    "    train_acc_history = []\n",
    "    val_acc_history = []\n",
    "\n",
    "    for epoch in range(epochs):\n",
    "        model.train()\n",
    "\n",
    "        running_loss = 0.0\n",
    "        train_accuracy.reset()\n",
    "        val_accuracy.reset()\n",
    "\n",
    "        progress_bar = tqdm(train_loader, desc=f'Epoch {epoch+1}/{epochs}', leave=True)\n",
    "        \n",
    "        # 訓練每個批次\n",
    "        for inputs, labels in progress_bar:\n",
    "            inputs, labels = inputs.to(device), labels.to(device)\n",
    "            \n",
    "            optimizer.zero_grad()  # 清空梯度\n",
    "            \n",
    "            outputs = model(inputs)\n",
    "            loss = criterion(outputs, labels)\n",
    "            loss.backward()  # 反向傳播\n",
    "            optimizer.step()  # 更新權重\n",
    "            \n",
    "            running_loss += loss.item()\n",
    "            _, predicted = torch.max(outputs, 1)\n",
    "            train_accuracy.update(predicted, labels)\n",
    "\n",
    "        # 計算當前 epoch 的平均訓練損失和準確率\n",
    "        train_loss = running_loss / len(train_loader)\n",
    "        train_acc = train_accuracy.compute().cpu().item()\n",
    "        train_loss_history.append(train_loss)\n",
    "        train_acc_history.append(train_acc)\n",
    "\n",
    "        model.eval()\n",
    "        val_loss = 0.0\n",
    "\n",
    "        # 禁用梯度計算，進行驗證集測試\n",
    "        with torch.no_grad():\n",
    "            for inputs, labels in val_loader:\n",
    "                inputs, labels = inputs.to(device), labels.to(device)\n",
    "\n",
    "                outputs = model(inputs)\n",
    "                loss = criterion(outputs, labels)\n",
    "                val_loss += loss.item()\n",
    "                _, predicted = torch.max(outputs, 1)\n",
    "                val_accuracy.update(predicted, labels)\n",
    "\n",
    "        val_acc = val_accuracy.compute().cpu().item()\n",
    "        val_loss /= len(val_loader)\n",
    "        val_loss_history.append(val_loss)\n",
    "        val_acc_history.append(val_acc)\n",
    "\n",
    "        # 根據驗證損失調整學習率\n",
    "        scheduler.step(val_loss)\n",
    "        \n",
    "        print(f'Epoch [{epoch+1}/{epochs}], Train Loss: {train_loss:.4f}, Train Acc: {train_acc:.4f}, Val Loss: {val_loss:.4f}, Val Acc: {val_acc:.4f}')\n",
    "\n",
    "    return train_loss_history, train_acc_history, val_loss_history, val_acc_history"
   ]
  },
  {
   "cell_type": "code",
   "execution_count": 14,
   "metadata": {},
   "outputs": [],
   "source": [
    "LEARNING_RATE=0.001\n",
    "EPOCHS=25"
   ]
  },
  {
   "cell_type": "code",
   "execution_count": 15,
   "metadata": {},
   "outputs": [
    {
     "name": "stderr",
     "output_type": "stream",
     "text": [
      "Epoch 1/25: 100%|██████████| 1500/1500 [01:15<00:00, 19.83it/s]\n"
     ]
    },
    {
     "name": "stdout",
     "output_type": "stream",
     "text": [
      "Epoch [1/25], Train Loss: 0.6220, Train Acc: 0.8473, Val Loss: 0.3068, Val Acc: 0.9142\n"
     ]
    },
    {
     "name": "stderr",
     "output_type": "stream",
     "text": [
      "Epoch 2/25: 100%|██████████| 1500/1500 [01:14<00:00, 20.25it/s]\n"
     ]
    },
    {
     "name": "stdout",
     "output_type": "stream",
     "text": [
      "Epoch [2/25], Train Loss: 0.3735, Train Acc: 0.8941, Val Loss: 0.3703, Val Acc: 0.9012\n"
     ]
    },
    {
     "name": "stderr",
     "output_type": "stream",
     "text": [
      "Epoch 3/25: 100%|██████████| 1500/1500 [01:14<00:00, 20.21it/s]\n"
     ]
    },
    {
     "name": "stdout",
     "output_type": "stream",
     "text": [
      "Epoch [3/25], Train Loss: 0.3565, Train Acc: 0.9002, Val Loss: 0.3528, Val Acc: 0.9090\n"
     ]
    },
    {
     "name": "stderr",
     "output_type": "stream",
     "text": [
      "Epoch 4/25: 100%|██████████| 1500/1500 [01:15<00:00, 19.84it/s]\n"
     ]
    },
    {
     "name": "stdout",
     "output_type": "stream",
     "text": [
      "Epoch [4/25], Train Loss: 0.3375, Train Acc: 0.9072, Val Loss: 0.3682, Val Acc: 0.9089\n"
     ]
    },
    {
     "name": "stderr",
     "output_type": "stream",
     "text": [
      "Epoch 5/25: 100%|██████████| 1500/1500 [01:15<00:00, 19.75it/s]\n"
     ]
    },
    {
     "name": "stdout",
     "output_type": "stream",
     "text": [
      "Epoch [5/25], Train Loss: 0.3309, Train Acc: 0.9088, Val Loss: 0.3778, Val Acc: 0.9068\n"
     ]
    },
    {
     "name": "stderr",
     "output_type": "stream",
     "text": [
      "Epoch 6/25: 100%|██████████| 1500/1500 [01:23<00:00, 17.94it/s]\n"
     ]
    },
    {
     "name": "stdout",
     "output_type": "stream",
     "text": [
      "Epoch [6/25], Train Loss: 0.2417, Train Acc: 0.9290, Val Loss: 0.3249, Val Acc: 0.9190\n"
     ]
    },
    {
     "name": "stderr",
     "output_type": "stream",
     "text": [
      "Epoch 7/25: 100%|██████████| 1500/1500 [03:08<00:00,  7.96it/s]\n"
     ]
    },
    {
     "name": "stdout",
     "output_type": "stream",
     "text": [
      "Epoch [7/25], Train Loss: 0.2332, Train Acc: 0.9297, Val Loss: 0.3228, Val Acc: 0.9207\n"
     ]
    },
    {
     "name": "stderr",
     "output_type": "stream",
     "text": [
      "Epoch 8/25: 100%|██████████| 1500/1500 [03:08<00:00,  7.95it/s]\n"
     ]
    },
    {
     "name": "stdout",
     "output_type": "stream",
     "text": [
      "Epoch [8/25], Train Loss: 0.2291, Train Acc: 0.9304, Val Loss: 0.3244, Val Acc: 0.9210\n"
     ]
    },
    {
     "name": "stderr",
     "output_type": "stream",
     "text": [
      "Epoch 9/25: 100%|██████████| 1500/1500 [03:09<00:00,  7.91it/s]\n"
     ]
    },
    {
     "name": "stdout",
     "output_type": "stream",
     "text": [
      "Epoch [9/25], Train Loss: 0.2114, Train Acc: 0.9359, Val Loss: 0.3317, Val Acc: 0.9154\n"
     ]
    },
    {
     "name": "stderr",
     "output_type": "stream",
     "text": [
      "Epoch 10/25: 100%|██████████| 1500/1500 [02:27<00:00, 10.17it/s]\n"
     ]
    },
    {
     "name": "stdout",
     "output_type": "stream",
     "text": [
      "Epoch [10/25], Train Loss: 0.1781, Train Acc: 0.9438, Val Loss: 0.3015, Val Acc: 0.9208\n"
     ]
    },
    {
     "name": "stderr",
     "output_type": "stream",
     "text": [
      "Epoch 11/25: 100%|██████████| 1500/1500 [03:09<00:00,  7.90it/s]\n"
     ]
    },
    {
     "name": "stdout",
     "output_type": "stream",
     "text": [
      "Epoch [11/25], Train Loss: 0.1777, Train Acc: 0.9444, Val Loss: 0.3019, Val Acc: 0.9239\n"
     ]
    },
    {
     "name": "stderr",
     "output_type": "stream",
     "text": [
      "Epoch 12/25: 100%|██████████| 1500/1500 [03:06<00:00,  8.03it/s]\n"
     ]
    },
    {
     "name": "stdout",
     "output_type": "stream",
     "text": [
      "Epoch [12/25], Train Loss: 0.1727, Train Acc: 0.9448, Val Loss: 0.2956, Val Acc: 0.9237\n"
     ]
    },
    {
     "name": "stderr",
     "output_type": "stream",
     "text": [
      "Epoch 13/25: 100%|██████████| 1500/1500 [03:09<00:00,  7.92it/s]\n"
     ]
    },
    {
     "name": "stdout",
     "output_type": "stream",
     "text": [
      "Epoch [13/25], Train Loss: 0.1703, Train Acc: 0.9449, Val Loss: 0.2964, Val Acc: 0.9217\n"
     ]
    },
    {
     "name": "stderr",
     "output_type": "stream",
     "text": [
      "Epoch 14/25: 100%|██████████| 1500/1500 [03:06<00:00,  8.05it/s]\n"
     ]
    },
    {
     "name": "stdout",
     "output_type": "stream",
     "text": [
      "Epoch [14/25], Train Loss: 0.1654, Train Acc: 0.9469, Val Loss: 0.2951, Val Acc: 0.9225\n"
     ]
    },
    {
     "name": "stderr",
     "output_type": "stream",
     "text": [
      "Epoch 15/25: 100%|██████████| 1500/1500 [02:43<00:00,  9.18it/s]\n"
     ]
    },
    {
     "name": "stdout",
     "output_type": "stream",
     "text": [
      "Epoch [15/25], Train Loss: 0.1661, Train Acc: 0.9467, Val Loss: 0.3088, Val Acc: 0.9217\n"
     ]
    },
    {
     "name": "stderr",
     "output_type": "stream",
     "text": [
      "Epoch 16/25: 100%|██████████| 1500/1500 [01:17<00:00, 19.29it/s]\n"
     ]
    },
    {
     "name": "stdout",
     "output_type": "stream",
     "text": [
      "Epoch [16/25], Train Loss: 0.1664, Train Acc: 0.9462, Val Loss: 0.2990, Val Acc: 0.9234\n"
     ]
    },
    {
     "name": "stderr",
     "output_type": "stream",
     "text": [
      "Epoch 17/25: 100%|██████████| 1500/1500 [01:19<00:00, 18.91it/s]\n"
     ]
    },
    {
     "name": "stdout",
     "output_type": "stream",
     "text": [
      "Epoch [17/25], Train Loss: 0.1611, Train Acc: 0.9481, Val Loss: 0.3005, Val Acc: 0.9218\n"
     ]
    },
    {
     "name": "stderr",
     "output_type": "stream",
     "text": [
      "Epoch 18/25: 100%|██████████| 1500/1500 [01:17<00:00, 19.25it/s]\n"
     ]
    },
    {
     "name": "stdout",
     "output_type": "stream",
     "text": [
      "Epoch [18/25], Train Loss: 0.1572, Train Acc: 0.9489, Val Loss: 0.2943, Val Acc: 0.9232\n"
     ]
    },
    {
     "name": "stderr",
     "output_type": "stream",
     "text": [
      "Epoch 19/25: 100%|██████████| 1500/1500 [01:16<00:00, 19.50it/s]\n"
     ]
    },
    {
     "name": "stdout",
     "output_type": "stream",
     "text": [
      "Epoch [19/25], Train Loss: 0.1580, Train Acc: 0.9493, Val Loss: 0.2883, Val Acc: 0.9260\n"
     ]
    },
    {
     "name": "stderr",
     "output_type": "stream",
     "text": [
      "Epoch 20/25: 100%|██████████| 1500/1500 [01:17<00:00, 19.48it/s]\n"
     ]
    },
    {
     "name": "stdout",
     "output_type": "stream",
     "text": [
      "Epoch [20/25], Train Loss: 0.1585, Train Acc: 0.9488, Val Loss: 0.2944, Val Acc: 0.9252\n"
     ]
    },
    {
     "name": "stderr",
     "output_type": "stream",
     "text": [
      "Epoch 21/25: 100%|██████████| 1500/1500 [01:17<00:00, 19.39it/s]\n"
     ]
    },
    {
     "name": "stdout",
     "output_type": "stream",
     "text": [
      "Epoch [21/25], Train Loss: 0.1541, Train Acc: 0.9503, Val Loss: 0.2964, Val Acc: 0.9243\n"
     ]
    },
    {
     "name": "stderr",
     "output_type": "stream",
     "text": [
      "Epoch 22/25: 100%|██████████| 1500/1500 [01:17<00:00, 19.36it/s]\n"
     ]
    },
    {
     "name": "stdout",
     "output_type": "stream",
     "text": [
      "Epoch [22/25], Train Loss: 0.1510, Train Acc: 0.9507, Val Loss: 0.3042, Val Acc: 0.9215\n"
     ]
    },
    {
     "name": "stderr",
     "output_type": "stream",
     "text": [
      "Epoch 23/25: 100%|██████████| 1500/1500 [01:17<00:00, 19.31it/s]\n"
     ]
    },
    {
     "name": "stdout",
     "output_type": "stream",
     "text": [
      "Epoch [23/25], Train Loss: 0.1533, Train Acc: 0.9505, Val Loss: 0.3023, Val Acc: 0.9212\n"
     ]
    },
    {
     "name": "stderr",
     "output_type": "stream",
     "text": [
      "Epoch 24/25: 100%|██████████| 1500/1500 [01:18<00:00, 19.21it/s]\n"
     ]
    },
    {
     "name": "stdout",
     "output_type": "stream",
     "text": [
      "Epoch [24/25], Train Loss: 0.1358, Train Acc: 0.9558, Val Loss: 0.2774, Val Acc: 0.9274\n"
     ]
    },
    {
     "name": "stderr",
     "output_type": "stream",
     "text": [
      "Epoch 25/25: 100%|██████████| 1500/1500 [01:18<00:00, 19.16it/s]\n"
     ]
    },
    {
     "name": "stdout",
     "output_type": "stream",
     "text": [
      "Epoch [25/25], Train Loss: 0.1355, Train Acc: 0.9554, Val Loss: 0.2921, Val Acc: 0.9245\n"
     ]
    }
   ],
   "source": [
    "# 清空 CUDA 快取，以釋放 GPU 記憶體\n",
    "torch.cuda.empty_cache()\n",
    "\n",
    "all_data_model = CustomResNet50()\n",
    "all_data_model = all_data_model.to(device)\n",
    "\n",
    "# 定義損失函數和優化器\n",
    "criterion = nn.CrossEntropyLoss()\n",
    "optimizer = optim.Adam(all_data_model.model.fc.parameters(), lr=LEARNING_RATE)\n",
    "scheduler = torch.optim.lr_scheduler.ReduceLROnPlateau(optimizer, mode='min', factor=0.5, patience=3)\n",
    "\n",
    "# 開始訓練\n",
    "train_loss, train_acc, val_loss, val_acc = train_all_data(all_data_model, train_loader, test_loader, criterion, optimizer, scheduler, EPOCHS)"
   ]
  },
  {
   "cell_type": "code",
   "execution_count": 16,
   "metadata": {},
   "outputs": [
    {
     "data": {
      "image/png": "[encoded data removed]",
      "text/plain": [
       "<Figure size 1200x500 with 2 Axes>"
      ]
     },
     "metadata": {},
     "output_type": "display_data"
    }
   ],
   "source": [
    "plot_loss_acc(train_loss, train_acc, val_loss, val_acc)"
   ]
  },
  {
   "cell_type": "code",
   "execution_count": 17,
   "metadata": {},
   "outputs": [
    {
     "name": "stdout",
     "output_type": "stream",
     "text": [
      "Test Accuracy: 92.6250%\n"
     ]
    },
    {
     "data": {
      "text/plain": [
       "0.9262499809265137"
      ]
     },
     "execution_count": 17,
     "metadata": {},
     "output_type": "execute_result"
    }
   ],
   "source": [
    "test_model(all_data_model, test_loader)"
   ]
  },
  {
   "cell_type": "markdown",
   "metadata": {},
   "source": [
    "### 報告\n",
    "- 使用 10 way 10 shot 的方式模擬只有少量樣本的情況 : 模型只有 5% 左右的準確率，這表明當支援集中的樣本數量非常少時，模型可能無法學到足夠的區分特徵。\n",
    "\n",
    "- 直接使用 80% 資料集做 transfer learning : 模型可以達到90%以上的準確率，訓練集中有更多樣的樣本，這讓模型能夠學習到更多樣的類別特徵，並且更好地識別不同類別之間的區別。"
   ]
  }
 ],
 "metadata": {
  "kernelspec": {
   "display_name": "mini_image_net",
   "language": "python",
   "name": "python3"
  },
  "language_info": {
   "codemirror_mode": {
    "name": "ipython",
    "version": 3
   },
   "file_extension": ".py",
   "mimetype": "text/x-python",
   "name": "python",
   "nbconvert_exporter": "python",
   "pygments_lexer": "ipython3",
   "version": "3.11.9"
  }
 },
 "nbformat": 4,
 "nbformat_minor": 2
}
